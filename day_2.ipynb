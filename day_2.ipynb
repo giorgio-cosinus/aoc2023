{
 "cells": [
  {
   "cell_type": "code",
   "execution_count": 1,
   "id": "7651966f-6fcf-4625-87c4-530271b048b9",
   "metadata": {
    "execution": {
     "iopub.execute_input": "2024-01-01T20:27:10.073625Z",
     "iopub.status.busy": "2024-01-01T20:27:10.073244Z",
     "iopub.status.idle": "2024-01-01T20:27:10.081347Z",
     "shell.execute_reply": "2024-01-01T20:27:10.080587Z",
     "shell.execute_reply.started": "2024-01-01T20:27:10.073589Z"
    }
   },
   "outputs": [],
   "source": [
    "import re"
   ]
  },
  {
   "cell_type": "code",
   "execution_count": 2,
   "id": "ffe717f3-370e-407e-9699-55a16108f1b4",
   "metadata": {
    "execution": {
     "iopub.execute_input": "2024-01-01T20:27:10.083509Z",
     "iopub.status.busy": "2024-01-01T20:27:10.082728Z",
     "iopub.status.idle": "2024-01-01T20:27:10.086996Z",
     "shell.execute_reply": "2024-01-01T20:27:10.086275Z",
     "shell.execute_reply.started": "2024-01-01T20:27:10.083478Z"
    }
   },
   "outputs": [],
   "source": [
    "test_inp = '''Game 1: 3 blue, 4 red; 1 red, 2 green, 6 blue; 2 green\n",
    "Game 2: 1 blue, 2 green; 3 green, 4 blue, 1 red; 1 green, 1 blue\n",
    "Game 3: 8 green, 6 blue, 20 red; 5 blue, 4 red, 13 green; 5 green, 1 red\n",
    "Game 4: 1 green, 3 red, 6 blue; 3 green, 6 red; 3 green, 15 blue, 14 red\n",
    "Game 5: 6 red, 1 blue, 3 green; 2 blue, 1 red, 2 green'''"
   ]
  },
  {
   "cell_type": "code",
   "execution_count": 3,
   "id": "c5733bed-b347-4822-bdd3-0d265ed70cab",
   "metadata": {
    "execution": {
     "iopub.execute_input": "2024-01-01T20:27:10.102104Z",
     "iopub.status.busy": "2024-01-01T20:27:10.101585Z",
     "iopub.status.idle": "2024-01-01T20:27:10.112467Z",
     "shell.execute_reply": "2024-01-01T20:27:10.110815Z",
     "shell.execute_reply.started": "2024-01-01T20:27:10.102077Z"
    },
    "jupyter": {
     "source_hidden": true
    }
   },
   "outputs": [],
   "source": [
    "inp = '''Game 1: 4 red, 1 green, 15 blue; 6 green, 2 red, 10 blue; 7 blue, 6 green, 4 red; 12 blue, 10 green, 3 red\n",
    "Game 2: 3 green, 18 blue; 14 green, 4 red, 2 blue; 3 red, 14 green, 15 blue\n",
    "Game 3: 12 green, 2 blue; 9 green; 1 red, 11 blue, 4 green\n",
    "Game 4: 4 blue, 8 green, 5 red; 6 red, 7 blue, 9 green; 2 green, 2 red, 2 blue; 2 green, 6 blue, 9 red; 10 red, 9 green\n",
    "Game 5: 12 red, 1 green, 7 blue; 13 red, 16 blue; 16 blue, 10 red; 4 blue; 16 blue, 7 red; 1 blue, 7 red\n",
    "Game 6: 17 blue, 2 red; 5 blue, 6 green, 2 red; 5 green, 5 blue; 5 green, 12 blue, 4 red\n",
    "Game 7: 2 red, 1 blue, 10 green; 8 red, 14 green, 9 blue; 15 red, 1 blue, 6 green; 9 blue, 3 green, 10 red; 7 blue, 13 red, 4 green\n",
    "Game 8: 1 green, 2 blue; 7 red, 2 blue, 1 green; 1 red, 2 green; 4 red, 1 blue; 11 red, 2 green, 2 blue; 1 blue, 2 green, 11 red\n",
    "Game 9: 11 green, 11 blue, 6 red; 2 green, 3 blue, 2 red; 2 red, 11 blue, 14 green; 5 green, 7 red, 7 blue; 7 green, 1 red, 12 blue; 1 red, 8 green, 7 blue\n",
    "Game 10: 2 red, 8 green, 7 blue; 10 red, 5 green, 2 blue; 4 red, 8 green, 16 blue; 10 blue, 3 green, 15 red\n",
    "Game 11: 2 blue, 2 green, 5 red; 1 green, 3 red, 3 blue; 11 green, 1 red, 2 blue\n",
    "Game 12: 8 blue, 11 green, 14 red; 10 green, 13 red, 2 blue; 1 red, 6 green, 4 blue; 13 red, 11 green, 6 blue\n",
    "Game 13: 15 red, 17 green, 1 blue; 12 red, 1 blue, 1 green; 2 red, 1 blue, 14 green\n",
    "Game 14: 6 green, 11 red, 3 blue; 6 green, 2 blue; 2 green, 10 red, 8 blue; 2 red; 1 green, 9 red; 3 blue, 1 green, 3 red\n",
    "Game 15: 11 blue, 11 green, 4 red; 3 green, 10 blue; 2 red, 9 green, 9 blue\n",
    "Game 16: 2 blue, 11 green; 1 red, 1 blue, 11 green; 12 green, 1 blue, 1 red; 3 blue, 14 green, 1 red; 14 green, 4 blue; 2 blue, 12 green\n",
    "Game 17: 1 red, 2 blue, 4 green; 4 blue, 3 green; 1 green, 1 red, 6 blue; 1 red, 7 blue; 2 green\n",
    "Game 18: 3 red, 3 blue, 7 green; 2 blue, 2 red, 2 green; 4 red, 12 green; 5 green, 2 blue, 4 red; 3 red\n",
    "Game 19: 15 red, 7 blue, 10 green; 5 green, 8 red; 9 green, 8 red; 5 red, 10 green\n",
    "Game 20: 15 blue, 6 green, 11 red; 13 red, 9 blue, 1 green; 15 blue, 10 red, 11 green\n",
    "Game 21: 15 red, 4 green; 11 red, 2 blue, 4 green; 5 blue, 2 green, 4 red; 4 red, 5 blue; 6 red, 3 blue, 1 green\n",
    "Game 22: 4 green, 4 red, 13 blue; 3 red, 7 blue, 9 green; 12 blue, 13 green, 5 red\n",
    "Game 23: 20 green, 4 red; 6 blue, 9 red, 7 green; 6 green\n",
    "Game 24: 1 green, 3 blue, 6 red; 1 green, 1 blue, 2 red; 3 blue, 5 red, 1 green\n",
    "Game 25: 2 red, 9 blue, 2 green; 2 green, 1 red, 5 blue; 3 red, 1 green, 3 blue; 8 blue, 2 green, 3 red; 12 blue, 3 red; 1 blue, 2 green, 1 red\n",
    "Game 26: 2 blue, 5 green, 20 red; 2 blue, 6 red, 9 green; 3 red, 2 blue, 5 green\n",
    "Game 27: 17 blue, 2 red, 14 green; 15 green, 16 blue, 2 red; 13 blue, 13 green; 1 red, 7 green, 3 blue; 1 blue, 2 green\n",
    "Game 28: 5 blue, 6 red, 3 green; 7 red, 19 green; 11 blue, 13 green\n",
    "Game 29: 1 blue, 8 red, 7 green; 1 green, 1 red; 8 red, 7 green, 1 blue; 7 green, 2 red; 1 blue, 7 red; 1 blue, 2 red, 5 green\n",
    "Game 30: 3 red, 17 blue; 11 red, 3 blue, 8 green; 7 green, 12 blue, 10 red; 5 blue, 2 green\n",
    "Game 31: 14 blue, 7 green; 12 green, 14 blue, 2 red; 17 blue, 2 red, 8 green; 2 red, 3 blue, 11 green; 9 green, 4 blue; 1 red, 3 green, 1 blue\n",
    "Game 32: 15 red, 1 blue, 10 green; 15 green, 10 red, 1 blue; 2 red, 6 green, 1 blue\n",
    "Game 33: 10 green, 1 red, 16 blue; 11 blue, 14 green, 3 red; 14 green, 13 blue; 17 blue, 2 red, 3 green\n",
    "Game 34: 8 red, 7 blue, 8 green; 3 green, 1 red; 1 red, 1 green, 5 blue; 6 red, 8 green, 2 blue; 7 red, 8 blue, 3 green\n",
    "Game 35: 5 blue, 19 red; 2 blue, 11 red, 1 green; 16 red, 10 blue; 7 green, 3 blue, 6 red; 3 green, 18 red, 5 blue; 8 blue, 5 red\n",
    "Game 36: 9 red, 6 green, 10 blue; 9 red, 15 green, 6 blue; 6 red, 1 blue, 14 green\n",
    "Game 37: 7 green, 8 red, 2 blue; 3 blue, 5 red, 16 green; 1 green, 1 red, 3 blue\n",
    "Game 38: 5 green, 5 red, 3 blue; 10 blue, 19 red, 9 green; 2 red, 3 blue, 11 green\n",
    "Game 39: 15 red, 11 blue, 5 green; 11 green, 2 red, 6 blue; 2 blue, 3 green, 6 red; 15 red, 3 blue, 13 green\n",
    "Game 40: 7 green, 4 red, 1 blue; 6 blue, 6 green, 2 red; 2 blue, 3 red, 1 green; 1 blue, 3 red, 3 green; 2 red, 5 green, 3 blue\n",
    "Game 41: 10 blue, 8 green, 9 red; 7 blue, 9 red, 2 green; 10 blue, 4 red, 5 green\n",
    "Game 42: 8 blue, 13 green, 14 red; 8 blue, 1 green, 11 red; 4 red, 6 green, 3 blue; 14 green, 4 red, 2 blue\n",
    "Game 43: 2 red, 10 green, 19 blue; 5 blue, 4 green, 9 red; 9 green, 9 red, 2 blue\n",
    "Game 44: 6 red, 2 green, 3 blue; 2 blue, 12 red, 6 green; 1 red, 10 blue; 12 red, 6 green, 2 blue; 14 red, 13 green, 3 blue; 10 green, 9 blue, 11 red\n",
    "Game 45: 2 blue, 1 red, 1 green; 1 green, 1 blue; 2 green, 2 blue\n",
    "Game 46: 7 green, 1 red; 1 green, 4 blue, 1 red; 3 blue, 4 green, 1 red; 1 red, 4 green; 1 blue, 12 green, 1 red; 16 green, 1 blue\n",
    "Game 47: 4 blue, 8 green, 3 red; 6 red, 1 green, 3 blue; 16 green, 4 blue, 1 red; 4 blue, 8 red\n",
    "Game 48: 1 blue, 9 red, 8 green; 8 green, 2 blue, 6 red; 2 green; 4 blue, 5 red; 1 blue, 9 red, 9 green; 1 red, 1 blue, 3 green\n",
    "Game 49: 3 green, 2 blue; 7 blue, 4 red; 20 green, 5 red, 13 blue; 20 green, 1 red, 6 blue\n",
    "Game 50: 3 red, 3 green; 3 green, 3 red; 2 blue, 10 red; 3 blue, 5 green; 14 red, 2 green, 2 blue; 7 red, 2 green\n",
    "Game 51: 3 green, 3 blue, 2 red; 4 green, 16 red, 3 blue; 1 blue, 3 red; 9 red, 1 blue, 4 green\n",
    "Game 52: 6 red, 18 green, 7 blue; 2 blue, 1 red, 5 green; 8 blue, 6 red, 1 green; 1 red, 1 blue; 6 red, 3 green, 10 blue\n",
    "Game 53: 1 blue, 10 red, 3 green; 13 red, 2 green, 1 blue; 1 green, 2 red\n",
    "Game 54: 4 blue, 6 green, 2 red; 5 blue, 6 red, 2 green; 6 blue, 4 green, 8 red; 13 red, 10 blue, 1 green; 5 red, 5 green, 9 blue\n",
    "Game 55: 4 green, 18 red, 4 blue; 9 blue, 7 green, 16 red; 5 red, 6 blue, 14 green; 13 green, 11 red, 9 blue; 6 blue, 13 green, 1 red; 10 blue, 12 red, 14 green\n",
    "Game 56: 8 green, 5 blue, 10 red; 10 green, 7 red, 12 blue; 11 red, 12 blue, 1 green; 4 blue, 6 red, 10 green; 17 blue, 8 green, 2 red\n",
    "Game 57: 1 green, 2 red; 2 green, 5 red, 1 blue; 13 red, 3 green, 4 blue; 3 blue, 13 red, 9 green\n",
    "Game 58: 1 red, 7 blue, 4 green; 2 green, 1 blue, 1 red; 1 green, 11 blue; 12 blue; 1 blue, 5 green, 1 red; 3 green, 11 blue, 1 red\n",
    "Game 59: 5 green, 3 blue, 17 red; 2 red, 9 green; 1 blue, 4 green\n",
    "Game 60: 5 red, 5 green, 1 blue; 2 red, 2 blue, 6 green; 2 red, 3 blue, 3 green\n",
    "Game 61: 2 green, 3 blue, 4 red; 17 green, 1 blue; 1 green, 6 red, 4 blue; 3 blue, 9 green, 3 red; 18 green, 7 red, 2 blue\n",
    "Game 62: 5 red; 3 blue, 9 green; 3 red, 13 blue, 10 green; 14 green, 1 red, 2 blue; 7 blue, 13 green\n",
    "Game 63: 12 blue, 5 green; 5 green, 1 red, 1 blue; 4 red, 7 green, 9 blue; 8 blue, 2 green, 7 red\n",
    "Game 64: 3 blue, 11 green; 5 blue, 2 red, 5 green; 17 green, 5 blue, 1 red; 4 red, 3 blue, 4 green\n",
    "Game 65: 2 red, 1 blue, 2 green; 7 green, 2 red, 1 blue; 2 blue, 7 green, 1 red; 3 blue, 8 green, 3 red\n",
    "Game 66: 4 red, 12 blue, 1 green; 20 blue, 3 green, 2 red; 11 blue, 1 green\n",
    "Game 67: 12 blue, 10 red, 13 green; 19 green, 4 red, 7 blue; 12 red, 9 blue, 13 green\n",
    "Game 68: 2 blue, 17 green; 12 green, 2 red; 5 red, 2 green, 4 blue; 4 blue\n",
    "Game 69: 17 blue, 3 red, 1 green; 4 green, 8 blue, 8 red; 4 green, 7 red, 1 blue; 8 red, 1 green, 11 blue; 13 blue, 10 red, 9 green; 14 blue, 5 green, 6 red\n",
    "Game 70: 1 red, 2 blue, 4 green; 13 blue, 3 red, 2 green; 6 green, 8 blue\n",
    "Game 71: 5 red, 7 green, 1 blue; 11 green, 4 red, 1 blue; 1 red, 12 green, 10 blue; 1 red, 7 blue, 12 green\n",
    "Game 72: 9 blue, 4 green, 1 red; 6 green, 4 blue; 8 green, 5 blue, 1 red\n",
    "Game 73: 1 blue, 10 green, 14 red; 4 green; 2 blue, 9 red, 4 green; 2 blue, 13 green; 13 green, 13 red; 7 red, 5 green, 2 blue\n",
    "Game 74: 3 red, 1 blue, 3 green; 4 green, 1 blue, 1 red; 2 blue, 10 green, 1 red; 1 blue, 3 red, 1 green\n",
    "Game 75: 1 red, 1 blue, 1 green; 2 red, 1 green, 4 blue; 2 red, 4 blue; 1 blue, 1 red\n",
    "Game 76: 4 green, 2 blue, 6 red; 7 green, 1 red; 8 green, 4 red\n",
    "Game 77: 8 green, 7 blue, 5 red; 6 red, 14 green, 7 blue; 8 green, 7 blue; 1 red, 8 green, 8 blue\n",
    "Game 78: 6 red, 3 blue, 3 green; 7 blue, 10 red; 5 green, 10 blue, 1 red; 3 green, 11 blue, 4 red; 14 red, 9 blue, 2 green; 16 red, 2 green, 12 blue\n",
    "Game 79: 1 green; 5 green; 11 green, 3 blue, 2 red; 3 blue\n",
    "Game 80: 2 green, 2 red; 1 blue, 1 green, 1 red; 1 blue, 1 green, 2 red; 2 red; 5 green\n",
    "Game 81: 10 blue, 2 red, 9 green; 4 red, 12 blue, 5 green; 7 green, 4 blue, 6 red; 1 red, 13 green, 14 blue; 13 green, 11 blue\n",
    "Game 82: 4 blue, 2 green; 7 blue, 3 green, 5 red; 1 red, 4 blue, 3 green; 5 blue, 1 red, 6 green; 6 green, 4 red; 11 blue, 3 red, 5 green\n",
    "Game 83: 12 green; 5 red, 8 green; 11 red, 14 green, 1 blue; 9 green, 4 red\n",
    "Game 84: 5 blue, 1 red; 16 blue, 5 green; 1 red, 9 blue, 3 green; 11 blue; 1 green, 2 blue; 1 red, 7 blue, 4 green\n",
    "Game 85: 17 red, 5 blue; 18 blue, 2 red, 2 green; 18 blue, 2 green, 8 red\n",
    "Game 86: 4 red, 1 blue, 11 green; 6 blue, 7 green, 1 red; 3 green, 4 blue; 2 red, 7 blue, 2 green\n",
    "Game 87: 4 red, 5 blue; 1 green, 15 red, 1 blue; 11 blue, 12 red\n",
    "Game 88: 11 green, 3 red, 1 blue; 6 green, 1 blue, 1 red; 1 blue, 3 green; 2 blue, 4 green, 2 red\n",
    "Game 89: 2 green; 1 red, 2 green, 3 blue; 4 blue, 1 red, 10 green; 4 blue, 5 green; 6 blue, 1 red, 10 green\n",
    "Game 90: 15 red, 7 green, 17 blue; 7 blue, 1 red; 7 green, 6 red, 3 blue\n",
    "Game 91: 2 blue, 17 red, 6 green; 1 green, 1 blue, 6 red; 6 red, 4 blue; 10 green, 14 red, 1 blue; 7 blue, 10 green, 10 red; 16 red, 11 green, 9 blue\n",
    "Game 92: 1 green, 8 blue, 4 red; 4 green, 4 red, 4 blue; 1 green, 7 red, 4 blue\n",
    "Game 93: 11 blue, 12 red, 1 green; 9 blue, 2 green, 5 red; 7 red, 5 blue, 2 green\n",
    "Game 94: 7 blue, 10 green; 9 green, 9 blue, 2 red; 1 red, 5 green, 4 blue\n",
    "Game 95: 1 green, 1 blue, 2 red; 6 red; 1 blue; 1 green, 1 blue, 6 red\n",
    "Game 96: 1 blue, 1 red, 2 green; 4 red, 13 green, 1 blue; 1 blue, 13 green, 5 red; 7 green, 4 red\n",
    "Game 97: 10 blue, 5 red, 5 green; 4 red, 8 green, 2 blue; 5 red, 2 green, 15 blue; 2 red, 1 green, 4 blue; 2 red, 14 blue; 14 blue, 4 green\n",
    "Game 98: 11 red, 8 green, 9 blue; 3 blue, 1 green, 14 red; 10 blue, 2 red, 4 green; 7 blue, 11 red, 3 green; 5 red, 12 blue, 4 green; 7 green, 7 blue, 8 red\n",
    "Game 99: 3 green, 2 blue, 1 red; 15 red, 8 blue, 7 green; 18 red, 12 blue, 2 green\n",
    "Game 100: 11 red, 1 blue, 2 green; 3 red, 3 green; 1 blue, 8 red, 4 green; 5 green, 5 blue, 1 red; 2 green, 1 red, 6 blue; 2 green, 8 red, 1 blue'''"
   ]
  },
  {
   "cell_type": "code",
   "execution_count": 4,
   "id": "59f55ca5-c3f1-4ffd-b18b-372feba91812",
   "metadata": {
    "execution": {
     "iopub.execute_input": "2024-01-01T20:27:10.116781Z",
     "iopub.status.busy": "2024-01-01T20:27:10.116223Z",
     "iopub.status.idle": "2024-01-01T20:27:10.123151Z",
     "shell.execute_reply": "2024-01-01T20:27:10.122429Z",
     "shell.execute_reply.started": "2024-01-01T20:27:10.116755Z"
    }
   },
   "outputs": [],
   "source": [
    "def run(text, part, debug=False):\n",
    "    s = 0\n",
    "    for i in text.split('\\n'):\n",
    "        limit_red = 12\n",
    "        limit_green = 13\n",
    "        limit_blue = 14\n",
    "        game_id = int(re.findall(r'Game (\\d+)', i)[0])\n",
    "        max_red = max([int(j) for j in re.findall(r'(\\d+) red', i)])\n",
    "        max_green = max([int(j) for j in re.findall(r'(\\d+) green', i)])\n",
    "        max_blue = max([int(j) for j in re.findall(r'(\\d+) blue', i)])\n",
    "        if part == 1:\n",
    "            if max_red <= limit_red and max_green <= limit_green and max_blue <= limit_blue:\n",
    "                s += game_id\n",
    "        elif part == 2:\n",
    "            s += max_red * max_green * max_blue\n",
    "        else:\n",
    "            raise Exception('part=1 for first part, part=2 for second part')\n",
    "        if debug:\n",
    "            print(game_id, max_red, max_green, max_blue)\n",
    "    return s"
   ]
  },
  {
   "cell_type": "code",
   "execution_count": 5,
   "id": "29aebeeb-4e1a-4c81-8a6a-a97c64f8725c",
   "metadata": {
    "execution": {
     "iopub.execute_input": "2024-01-01T20:27:10.124604Z",
     "iopub.status.busy": "2024-01-01T20:27:10.124226Z",
     "iopub.status.idle": "2024-01-01T20:27:10.133071Z",
     "shell.execute_reply": "2024-01-01T20:27:10.132359Z",
     "shell.execute_reply.started": "2024-01-01T20:27:10.124575Z"
    }
   },
   "outputs": [
    {
     "name": "stdout",
     "output_type": "stream",
     "text": [
      "1 4 2 6\n",
      "2 1 3 4\n",
      "3 20 13 6\n",
      "4 14 3 15\n",
      "5 6 3 2\n"
     ]
    },
    {
     "data": {
      "text/plain": [
       "8"
      ]
     },
     "execution_count": 5,
     "metadata": {},
     "output_type": "execute_result"
    }
   ],
   "source": [
    "run(test_inp, 1, True)"
   ]
  },
  {
   "cell_type": "code",
   "execution_count": 6,
   "id": "f0cd23a7-9f5f-4fb1-81f3-6f33f9fd7f0a",
   "metadata": {
    "execution": {
     "iopub.execute_input": "2024-01-01T20:27:10.134487Z",
     "iopub.status.busy": "2024-01-01T20:27:10.134117Z",
     "iopub.status.idle": "2024-01-01T20:27:10.139644Z",
     "shell.execute_reply": "2024-01-01T20:27:10.138855Z",
     "shell.execute_reply.started": "2024-01-01T20:27:10.134458Z"
    }
   },
   "outputs": [
    {
     "name": "stdout",
     "output_type": "stream",
     "text": [
      "1 4 2 6\n",
      "2 1 3 4\n",
      "3 20 13 6\n",
      "4 14 3 15\n",
      "5 6 3 2\n"
     ]
    },
    {
     "data": {
      "text/plain": [
       "2286"
      ]
     },
     "execution_count": 6,
     "metadata": {},
     "output_type": "execute_result"
    }
   ],
   "source": [
    "run(test_inp, 2, True)"
   ]
  },
  {
   "cell_type": "code",
   "execution_count": 7,
   "id": "405ad967-eb88-4a88-a192-c776c5d657e8",
   "metadata": {
    "execution": {
     "iopub.execute_input": "2024-01-01T20:27:10.141622Z",
     "iopub.status.busy": "2024-01-01T20:27:10.141308Z",
     "iopub.status.idle": "2024-01-01T20:27:10.150159Z",
     "shell.execute_reply": "2024-01-01T20:27:10.148980Z",
     "shell.execute_reply.started": "2024-01-01T20:27:10.141597Z"
    }
   },
   "outputs": [
    {
     "data": {
      "text/plain": [
       "(2237, 66681)"
      ]
     },
     "execution_count": 7,
     "metadata": {},
     "output_type": "execute_result"
    }
   ],
   "source": [
    "run(inp, 1), run(inp, 2)"
   ]
  },
  {
   "cell_type": "code",
   "execution_count": null,
   "id": "d5794eba-374a-4369-ba1c-f66d34664175",
   "metadata": {},
   "outputs": [],
   "source": []
  }
 ],
 "metadata": {
  "kernelspec": {
   "display_name": "Python 3 (ipykernel)",
   "language": "python",
   "name": "python3"
  },
  "language_info": {
   "codemirror_mode": {
    "name": "ipython",
    "version": 3
   },
   "file_extension": ".py",
   "mimetype": "text/x-python",
   "name": "python",
   "nbconvert_exporter": "python",
   "pygments_lexer": "ipython3",
   "version": "3.9.4"
  }
 },
 "nbformat": 4,
 "nbformat_minor": 5
}
