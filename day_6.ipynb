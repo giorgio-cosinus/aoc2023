{
 "cells": [
  {
   "cell_type": "code",
   "execution_count": 1,
   "id": "6381c882-4706-4956-a097-a932ee870b9e",
   "metadata": {
    "execution": {
     "iopub.execute_input": "2024-01-01T20:27:23.585577Z",
     "iopub.status.busy": "2024-01-01T20:27:23.585250Z",
     "iopub.status.idle": "2024-01-01T20:27:24.296969Z",
     "shell.execute_reply": "2024-01-01T20:27:24.296065Z",
     "shell.execute_reply.started": "2024-01-01T20:27:23.585541Z"
    }
   },
   "outputs": [],
   "source": [
    "import math\n",
    "import re\n",
    "\n",
    "from sympy import Poly\n",
    "from sympy.abc import x\n",
    "from sympy.solvers.inequalities import solve_poly_inequality"
   ]
  },
  {
   "cell_type": "code",
   "execution_count": 2,
   "id": "76e5f526-65da-407f-aae0-0af575369c50",
   "metadata": {
    "execution": {
     "iopub.execute_input": "2024-01-01T20:27:24.299441Z",
     "iopub.status.busy": "2024-01-01T20:27:24.299018Z",
     "iopub.status.idle": "2024-01-01T20:27:24.303429Z",
     "shell.execute_reply": "2024-01-01T20:27:24.302628Z",
     "shell.execute_reply.started": "2024-01-01T20:27:24.299412Z"
    }
   },
   "outputs": [],
   "source": [
    "test_inp = '''Time:      7  15   30\n",
    "Distance:  9  40  200'''"
   ]
  },
  {
   "cell_type": "code",
   "execution_count": 3,
   "id": "b43257d5-e938-410f-a366-fd7d54e16274",
   "metadata": {
    "execution": {
     "iopub.execute_input": "2024-01-01T20:27:24.304903Z",
     "iopub.status.busy": "2024-01-01T20:27:24.304567Z",
     "iopub.status.idle": "2024-01-01T20:27:24.309065Z",
     "shell.execute_reply": "2024-01-01T20:27:24.308281Z",
     "shell.execute_reply.started": "2024-01-01T20:27:24.304873Z"
    }
   },
   "outputs": [],
   "source": [
    "inp = '''Time:        56     97     78     75\n",
    "Distance:   546   1927   1131   1139'''"
   ]
  },
  {
   "cell_type": "code",
   "execution_count": 4,
   "id": "82265723-e691-4086-83a1-79eee633b447",
   "metadata": {
    "execution": {
     "iopub.execute_input": "2024-01-01T20:27:24.310708Z",
     "iopub.status.busy": "2024-01-01T20:27:24.310139Z",
     "iopub.status.idle": "2024-01-01T20:27:24.321377Z",
     "shell.execute_reply": "2024-01-01T20:27:24.320596Z",
     "shell.execute_reply.started": "2024-01-01T20:27:24.310678Z"
    }
   },
   "outputs": [],
   "source": [
    "def run(text, part, debug=False):\n",
    "    times = re.findall(r'\\d+', text.split('\\n')[0])\n",
    "    distances = re.findall(r'\\d+', text.split('\\n')[1])\n",
    "    if part == 1:\n",
    "        times = [*map(int, times)]\n",
    "        distances = [*map(int, distances)]\n",
    "    elif part == 2:\n",
    "        times = [int(''.join(times))]\n",
    "        distances = [int(''.join(distances))]\n",
    "    else:\n",
    "        raise Exception('part=1 for first part, part=2 for second part')\n",
    "    s = 1\n",
    "    for i in range(len(times)):\n",
    "        res = solve_poly_inequality(Poly((times[i] - x) * x - distances[i]), '>')[0]\n",
    "        lower_bound = min(math.floor(list(res.boundary)[0] + 1), math.ceil(list(res.boundary)[1]))\n",
    "        upper_bound = max(math.floor(list(res.boundary)[0] + 1), math.ceil(list(res.boundary)[1]))\n",
    "        vals = list(range(lower_bound, upper_bound))\n",
    "        if len(vals) >= 1:\n",
    "            s *= len(vals)\n",
    "        if debug:\n",
    "            if part == 1:\n",
    "                print(times[i], distances[i], res.boundary, vals, len(vals))\n",
    "            elif part == 2:\n",
    "                print(times[i], distances[i], res.boundary, len(vals))\n",
    "    return s"
   ]
  },
  {
   "cell_type": "code",
   "execution_count": 5,
   "id": "e706e533-539e-4d84-a031-8f867b3860aa",
   "metadata": {
    "execution": {
     "iopub.execute_input": "2024-01-01T20:27:24.322918Z",
     "iopub.status.busy": "2024-01-01T20:27:24.322564Z",
     "iopub.status.idle": "2024-01-01T20:27:24.422192Z",
     "shell.execute_reply": "2024-01-01T20:27:24.421212Z",
     "shell.execute_reply.started": "2024-01-01T20:27:24.322889Z"
    }
   },
   "outputs": [
    {
     "name": "stdout",
     "output_type": "stream",
     "text": [
      "7 9 {7/2 - sqrt(13)/2, sqrt(13)/2 + 7/2} [2, 3, 4, 5] 4\n",
      "15 40 {15/2 - sqrt(65)/2, sqrt(65)/2 + 15/2} [4, 5, 6, 7, 8, 9, 10, 11] 8\n",
      "30 200 {10, 20} [11, 12, 13, 14, 15, 16, 17, 18, 19] 9\n"
     ]
    },
    {
     "data": {
      "text/plain": [
       "288"
      ]
     },
     "execution_count": 5,
     "metadata": {},
     "output_type": "execute_result"
    }
   ],
   "source": [
    "run(test_inp, 1, True)"
   ]
  },
  {
   "cell_type": "code",
   "execution_count": 6,
   "id": "a4753e3a-cfee-44e8-a833-3735bc8b48e2",
   "metadata": {
    "execution": {
     "iopub.execute_input": "2024-01-01T20:27:24.423744Z",
     "iopub.status.busy": "2024-01-01T20:27:24.423460Z",
     "iopub.status.idle": "2024-01-01T20:27:24.454241Z",
     "shell.execute_reply": "2024-01-01T20:27:24.453442Z",
     "shell.execute_reply.started": "2024-01-01T20:27:24.423714Z"
    }
   },
   "outputs": [
    {
     "name": "stdout",
     "output_type": "stream",
     "text": [
      "71530 940200 {35765 - 5*sqrt(51127801), 5*sqrt(51127801) + 35765} 71503\n"
     ]
    },
    {
     "data": {
      "text/plain": [
       "71503"
      ]
     },
     "execution_count": 6,
     "metadata": {},
     "output_type": "execute_result"
    }
   ],
   "source": [
    "run(test_inp, 2, True)"
   ]
  },
  {
   "cell_type": "code",
   "execution_count": 7,
   "id": "3598578c-8278-4f25-b4dd-e6b94b8657d9",
   "metadata": {
    "execution": {
     "iopub.execute_input": "2024-01-01T20:27:24.456782Z",
     "iopub.status.busy": "2024-01-01T20:27:24.456381Z",
     "iopub.status.idle": "2024-01-01T20:27:26.746439Z",
     "shell.execute_reply": "2024-01-01T20:27:26.745681Z",
     "shell.execute_reply.started": "2024-01-01T20:27:24.456750Z"
    }
   },
   "outputs": [
    {
     "data": {
      "text/plain": [
       "(1624896, 32583852)"
      ]
     },
     "execution_count": 7,
     "metadata": {},
     "output_type": "execute_result"
    }
   ],
   "source": [
    "run(inp, 1), run(inp, 2)"
   ]
  },
  {
   "cell_type": "code",
   "execution_count": null,
   "id": "5b19a724-c680-4e66-9ac0-348946693ae5",
   "metadata": {},
   "outputs": [],
   "source": []
  }
 ],
 "metadata": {
  "kernelspec": {
   "display_name": "Python 3 (ipykernel)",
   "language": "python",
   "name": "python3"
  },
  "language_info": {
   "codemirror_mode": {
    "name": "ipython",
    "version": 3
   },
   "file_extension": ".py",
   "mimetype": "text/x-python",
   "name": "python",
   "nbconvert_exporter": "python",
   "pygments_lexer": "ipython3",
   "version": "3.8.8"
  }
 },
 "nbformat": 4,
 "nbformat_minor": 5
}
